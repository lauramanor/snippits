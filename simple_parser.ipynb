{
  "nbformat": 4,
  "nbformat_minor": 0,
  "metadata": {
    "colab": {
      "name": "simple_parser.ipynb",
      "provenance": [],
      "include_colab_link": true
    },
    "kernelspec": {
      "name": "python3",
      "display_name": "Python 3"
    }
  },
  "cells": [
    {
      "cell_type": "markdown",
      "metadata": {
        "id": "view-in-github",
        "colab_type": "text"
      },
      "source": [
        "<a href=\"https://colab.research.google.com/github/lauramanor/snippits/blob/master/simple_parser.ipynb\" target=\"_parent\"><img src=\"https://colab.research.google.com/assets/colab-badge.svg\" alt=\"Open In Colab\"/></a>"
      ]
    },
    {
      "cell_type": "markdown",
      "metadata": {
        "id": "BqIsSQieqUf4",
        "colab_type": "text"
      },
      "source": [
        "# This is a simple parser for finding \n",
        "\n",
        "You will need to upload your file to your google drive. \n",
        "\n",
        "When prompted, click on the link to get authentication to allow Google to access your Drive. You should see a screen with “Google Cloud SDK wants to access your Google Account” at the top. After you allow permission, copy the given verification code and paste it in the box in Colab.\n",
        "\n",
        "Once you have completed verification, go to the CSV file in Google Drive,right-click on it and select “Get shareable link”. The link will be copied into your clipboard. Paste this link into a string variable in Colab.\n"
      ]
    },
    {
      "cell_type": "code",
      "metadata": {
        "id": "BlD73p3weNML",
        "colab_type": "code",
        "colab": {}
      },
      "source": [
        "import pandas as pd\n",
        "from pandas import ExcelWriter\n",
        "from pandas import ExcelFile\n",
        "\n",
        "\n",
        "!pip install -U -q PyDrive\n",
        "from pydrive.auth import GoogleAuth\n",
        "from pydrive.drive import GoogleDrive\n",
        "from google.colab import auth\n",
        "from oauth2client.client import GoogleCredentials\n",
        "\n",
        "# Authenticate and create the PyDrive client.\n",
        "auth.authenticate_user()\n",
        "gauth = GoogleAuth()\n",
        "gauth.credentials = GoogleCredentials.get_application_default()\n",
        "drive = GoogleDrive(gauth)"
      ],
      "execution_count": 0,
      "outputs": []
    },
    {
      "cell_type": "markdown",
      "metadata": {
        "id": "xg7Ps43TvbeH",
        "colab_type": "text"
      },
      "source": [
        "## Enter applicable information necessary here:"
      ]
    },
    {
      "cell_type": "code",
      "metadata": {
        "id": "IfD1f4bAj6zH",
        "colab_type": "code",
        "colab": {}
      },
      "source": [
        "### Enter Sharable Link for your xcls here: \n",
        "link = 'https://drive.google.com/open?id=1Gtkp8i53LcTNHWtCnCUOe55jmYMBrntb'\n",
        "### Enter the name of your file here\n",
        "filename = 'ANG-201907-Elicitation Master.xlsx'\n",
        "### Enter the sheetname here (for xlsx)\n",
        "sheetname = 'Log'\n",
        "### Enter the row that contains the headding info\n",
        "heading_row = 7"
      ],
      "execution_count": 0,
      "outputs": []
    },
    {
      "cell_type": "markdown",
      "metadata": {
        "id": "EipWGXdErDlF",
        "colab_type": "text"
      },
      "source": [
        "![](https://drive.google.com/uc?export=view&id=1Mylvy4Yyp0ZFM8vr_SI2H2hlc5dN3IgU)"
      ]
    },
    {
      "cell_type": "code",
      "metadata": {
        "id": "Gb7Mgjmzlkvh",
        "colab_type": "code",
        "colab": {}
      },
      "source": [
        "if \"id\" in link:\n",
        "  fluff, id = link.split('id=')\n",
        "elif \"/d/\" in link:\n",
        "  fluff, id = link.split(\"/d/\")\n",
        "else:\n",
        "  print(\"Link not supported\")\n",
        "  raise SystemExit\n",
        "downloaded = drive.CreateFile({'id':id}) \n",
        "downloaded.GetContentFile(filename)  \n",
        "if filename.endswith(\".xlsx\"):\n",
        "  df = pd.read_excel(filename, sheet_name=sheetname, header=heading_row-1)"
      ],
      "execution_count": 0,
      "outputs": []
    },
    {
      "cell_type": "markdown",
      "metadata": {
        "id": "2xWWWcWCvugb",
        "colab_type": "text"
      },
      "source": [
        "\n",
        "## Check to make sure this looks like the data you want:\n"
      ]
    },
    {
      "cell_type": "code",
      "metadata": {
        "id": "hGWsoQRCvyp7",
        "colab_type": "code",
        "colab": {
          "base_uri": "https://localhost:8080/",
          "height": 204
        },
        "outputId": "dff8556b-a6d2-48c6-8090-fffdc1fb0341"
      },
      "source": [
        "df.head()"
      ],
      "execution_count": 29,
      "outputs": [
        {
          "output_type": "execute_result",
          "data": {
            "text/html": [
              "<div>\n",
              "<style scoped>\n",
              "    .dataframe tbody tr th:only-of-type {\n",
              "        vertical-align: middle;\n",
              "    }\n",
              "\n",
              "    .dataframe tbody tr th {\n",
              "        vertical-align: top;\n",
              "    }\n",
              "\n",
              "    .dataframe thead th {\n",
              "        text-align: right;\n",
              "    }\n",
              "</style>\n",
              "<table border=\"1\" class=\"dataframe\">\n",
              "  <thead>\n",
              "    <tr style=\"text-align: right;\">\n",
              "      <th></th>\n",
              "      <th>Angaité</th>\n",
              "      <th>Angaite 9/2019</th>\n",
              "      <th>Translation (Guaraní)</th>\n",
              "      <th>Translation (Spanish/English)</th>\n",
              "      <th>Comments</th>\n",
              "      <th>Date</th>\n",
              "      <th>Session</th>\n",
              "      <th>Item#</th>\n",
              "      <th>Verb Root</th>\n",
              "    </tr>\n",
              "  </thead>\n",
              "  <tbody>\n",
              "    <tr>\n",
              "      <th>0</th>\n",
              "      <td>nepkeˈsek</td>\n",
              "      <td>(kilkaske?) nepkeˈsek</td>\n",
              "      <td>NaN</td>\n",
              "      <td>ovecha</td>\n",
              "      <td>20:30 ish</td>\n",
              "      <td>20190716</td>\n",
              "      <td>1.0</td>\n",
              "      <td>23.0</td>\n",
              "      <td>NaN</td>\n",
              "    </tr>\n",
              "    <tr>\n",
              "      <th>1</th>\n",
              "      <td>ak.loo.ˈma</td>\n",
              "      <td>(Lea) aklooˈma</td>\n",
              "      <td>ñaña</td>\n",
              "      <td>mala</td>\n",
              "      <td>NaN</td>\n",
              "      <td>20190708</td>\n",
              "      <td>1.0</td>\n",
              "      <td>80.0</td>\n",
              "      <td>NaN</td>\n",
              "    </tr>\n",
              "    <tr>\n",
              "      <th>2</th>\n",
              "      <td>aaˈLa</td>\n",
              "      <td>aaˈLa</td>\n",
              "      <td>karanda'y</td>\n",
              "      <td>copernicia alba</td>\n",
              "      <td>NaN</td>\n",
              "      <td>20190717</td>\n",
              "      <td>2.0</td>\n",
              "      <td>39.0</td>\n",
              "      <td>NaN</td>\n",
              "    </tr>\n",
              "    <tr>\n",
              "      <th>3</th>\n",
              "      <td>aa.ˈLa aL.wa.sik.ˈsek</td>\n",
              "      <td>aaˈLa aLwasekˈsek</td>\n",
              "      <td>karanda'u</td>\n",
              "      <td>palm tree (karanda'u), the whole tree</td>\n",
              "      <td>pointing out that my house is made of karanda'u</td>\n",
              "      <td>20190710</td>\n",
              "      <td>2.0</td>\n",
              "      <td>63.0</td>\n",
              "      <td>NaN</td>\n",
              "    </tr>\n",
              "    <tr>\n",
              "      <th>4</th>\n",
              "      <td>aaˈLa aLwasekˈsek nentoˈma</td>\n",
              "      <td>aaˈLa aLwasekˈsek nentoˈma</td>\n",
              "      <td>ja'u karanda'y ro'a</td>\n",
              "      <td>we eat palm….?</td>\n",
              "      <td>check translation?</td>\n",
              "      <td>20190723</td>\n",
              "      <td>1.0</td>\n",
              "      <td>43.0</td>\n",
              "      <td>NaN</td>\n",
              "    </tr>\n",
              "  </tbody>\n",
              "</table>\n",
              "</div>"
            ],
            "text/plain": [
              "                       Angaité              Angaite 9/2019  ... Item# Verb Root\n",
              "0                    nepkeˈsek       (kilkaske?) nepkeˈsek  ...  23.0       NaN\n",
              "1                   ak.loo.ˈma              (Lea) aklooˈma  ...  80.0       NaN\n",
              "2                        aaˈLa                       aaˈLa  ...  39.0       NaN\n",
              "3        aa.ˈLa aL.wa.sik.ˈsek           aaˈLa aLwasekˈsek  ...  63.0       NaN\n",
              "4  aaˈLa aLwasekˈsek nentoˈma   aaˈLa aLwasekˈsek nentoˈma  ...  43.0       NaN\n",
              "\n",
              "[5 rows x 9 columns]"
            ]
          },
          "metadata": {
            "tags": []
          },
          "execution_count": 29
        }
      ]
    },
    {
      "cell_type": "code",
      "metadata": {
        "id": "WMbOFE9twAep",
        "colab_type": "code",
        "colab": {}
      },
      "source": [
        ""
      ],
      "execution_count": 0,
      "outputs": []
    }
  ]
}